{
 "cells": [
  {
   "cell_type": "code",
   "execution_count": 1,
   "metadata": {},
   "outputs": [
    {
     "name": "stderr",
     "output_type": "stream",
     "text": [
      "/home/david/anaconda3/lib/python3.7/site-packages/tensorboard/compat/tensorflow_stub/dtypes.py:541: FutureWarning: Passing (type, 1) or '1type' as a synonym of type is deprecated; in a future version of numpy, it will be understood as (type, (1,)) / '(1,)type'.\n",
      "  _np_qint8 = np.dtype([(\"qint8\", np.int8, 1)])\n",
      "/home/david/anaconda3/lib/python3.7/site-packages/tensorboard/compat/tensorflow_stub/dtypes.py:542: FutureWarning: Passing (type, 1) or '1type' as a synonym of type is deprecated; in a future version of numpy, it will be understood as (type, (1,)) / '(1,)type'.\n",
      "  _np_quint8 = np.dtype([(\"quint8\", np.uint8, 1)])\n",
      "/home/david/anaconda3/lib/python3.7/site-packages/tensorboard/compat/tensorflow_stub/dtypes.py:543: FutureWarning: Passing (type, 1) or '1type' as a synonym of type is deprecated; in a future version of numpy, it will be understood as (type, (1,)) / '(1,)type'.\n",
      "  _np_qint16 = np.dtype([(\"qint16\", np.int16, 1)])\n",
      "/home/david/anaconda3/lib/python3.7/site-packages/tensorboard/compat/tensorflow_stub/dtypes.py:544: FutureWarning: Passing (type, 1) or '1type' as a synonym of type is deprecated; in a future version of numpy, it will be understood as (type, (1,)) / '(1,)type'.\n",
      "  _np_quint16 = np.dtype([(\"quint16\", np.uint16, 1)])\n",
      "/home/david/anaconda3/lib/python3.7/site-packages/tensorboard/compat/tensorflow_stub/dtypes.py:545: FutureWarning: Passing (type, 1) or '1type' as a synonym of type is deprecated; in a future version of numpy, it will be understood as (type, (1,)) / '(1,)type'.\n",
      "  _np_qint32 = np.dtype([(\"qint32\", np.int32, 1)])\n",
      "/home/david/anaconda3/lib/python3.7/site-packages/tensorboard/compat/tensorflow_stub/dtypes.py:550: FutureWarning: Passing (type, 1) or '1type' as a synonym of type is deprecated; in a future version of numpy, it will be understood as (type, (1,)) / '(1,)type'.\n",
      "  np_resource = np.dtype([(\"resource\", np.ubyte, 1)])\n"
     ]
    }
   ],
   "source": [
    "import pandas as pd \n",
    "import numpy as np\n",
    "from statsmodels.tsa.stattools import adfuller\n",
    "from sklearn.preprocessing import MinMaxScaler\n",
    "from keras.preprocessing.sequence import TimeseriesGenerator\n",
    "import matplotlib.pyplot as plt\n"
   ]
  },
  {
   "cell_type": "code",
   "execution_count": 2,
   "metadata": {
    "scrolled": true
   },
   "outputs": [],
   "source": [
    "df=pd.read_csv(\"stokedata.csv\")\n",
    "\n",
    "df[\"date\"]=pd.to_datetime(df[\"date\"])\n",
    "\n",
    "df2 =df[[\"date\",\"volume\"]].copy()\n",
    "# fuller_test=adfuller(df2)\n",
    "\n",
    "# fuller_test\n",
    "\n",
    "\n",
    "df2.set_index(\"date\",inplace=True)\n",
    "df2.sort_index(inplace=True)\n",
    "\n",
    "Vol = df2[\"volume\"]\n",
    "\n",
    "train_size=int(len(df2)*0.75)\n",
    "\n",
    "\n",
    "train=df2.iloc[:train_size]\n",
    "test=df2.iloc[train_size:].copy()\n",
    "\n",
    "\n",
    "scaler=MinMaxScaler()\n",
    "scaler.fit(train)\n",
    "scaler_train=scaler.transform(train)\n",
    "scaler_test=scaler.transform(test)\n",
    "\n",
    "\n",
    "num_input=10\n",
    "num_features=1\n",
    "\n",
    "generator=TimeseriesGenerator(scaler_train,scaler_train,length=num_input,batch_size=1)\n",
    "\n"
   ]
  },
  {
   "cell_type": "code",
   "execution_count": 3,
   "metadata": {},
   "outputs": [
    {
     "name": "stdout",
     "output_type": "stream",
     "text": [
      "Epoch 1/40\n",
      "1835/1835 [==============================] - 11s 6ms/step - loss: 0.0065\n",
      "Epoch 2/40\n",
      "1835/1835 [==============================] - 11s 6ms/step - loss: 0.0064\n",
      "Epoch 3/40\n",
      "1835/1835 [==============================] - 11s 6ms/step - loss: 0.0064\n",
      "Epoch 4/40\n",
      "1835/1835 [==============================] - 12s 6ms/step - loss: 0.0064\n",
      "Epoch 5/40\n",
      "1835/1835 [==============================] - 12s 6ms/step - loss: 0.0064\n",
      "Epoch 6/40\n",
      "1835/1835 [==============================] - 11s 6ms/step - loss: 0.0064\n",
      "Epoch 7/40\n",
      "1835/1835 [==============================] - 12s 6ms/step - loss: 0.0063\n",
      "Epoch 8/40\n",
      "1835/1835 [==============================] - 12s 7ms/step - loss: 0.0064\n",
      "Epoch 9/40\n",
      "1835/1835 [==============================] - 12s 7ms/step - loss: 0.0064\n",
      "Epoch 10/40\n",
      "1835/1835 [==============================] - 12s 6ms/step - loss: 0.0064\n",
      "Epoch 11/40\n",
      "1835/1835 [==============================] - 13s 7ms/step - loss: 0.0063\n",
      "Epoch 12/40\n",
      "1835/1835 [==============================] - 15s 8ms/step - loss: 0.0063\n",
      "Epoch 13/40\n",
      "1835/1835 [==============================] - 16s 9ms/step - loss: 0.0063\n",
      "Epoch 14/40\n",
      "1835/1835 [==============================] - 16s 9ms/step - loss: 0.0063\n",
      "Epoch 15/40\n",
      "1835/1835 [==============================] - 16s 9ms/step - loss: 0.0063\n",
      "Epoch 16/40\n",
      "1835/1835 [==============================] - 16s 9ms/step - loss: 0.0063\n",
      "Epoch 17/40\n",
      "1835/1835 [==============================] - 16s 9ms/step - loss: 0.0063\n",
      "Epoch 18/40\n",
      "1835/1835 [==============================] - 16s 9ms/step - loss: 0.0063\n",
      "Epoch 19/40\n",
      "1835/1835 [==============================] - 16s 9ms/step - loss: 0.0064\n",
      "Epoch 20/40\n",
      "1835/1835 [==============================] - 16s 9ms/step - loss: 0.0063\n",
      "Epoch 21/40\n",
      "1835/1835 [==============================] - 16s 9ms/step - loss: 0.0063\n",
      "Epoch 22/40\n",
      "1835/1835 [==============================] - 16s 9ms/step - loss: 0.0063\n",
      "Epoch 23/40\n",
      "1835/1835 [==============================] - 16s 9ms/step - loss: 0.0063\n",
      "Epoch 24/40\n",
      "1835/1835 [==============================] - 16s 9ms/step - loss: 0.0063\n",
      "Epoch 25/40\n",
      "1835/1835 [==============================] - 15s 8ms/step - loss: 0.0063\n",
      "Epoch 26/40\n",
      "1835/1835 [==============================] - 15s 8ms/step - loss: 0.0063\n",
      "Epoch 27/40\n",
      "1835/1835 [==============================] - 15s 8ms/step - loss: 0.0063\n",
      "Epoch 28/40\n",
      "1835/1835 [==============================] - 16s 9ms/step - loss: 0.0063\n",
      "Epoch 29/40\n",
      "1835/1835 [==============================] - 15s 8ms/step - loss: 0.0063\n",
      "Epoch 30/40\n",
      "1835/1835 [==============================] - 15s 8ms/step - loss: 0.0063\n",
      "Epoch 31/40\n",
      "1835/1835 [==============================] - 15s 8ms/step - loss: 0.0063\n",
      "Epoch 32/40\n",
      "1835/1835 [==============================] - 16s 9ms/step - loss: 0.0063\n",
      "Epoch 33/40\n",
      "1835/1835 [==============================] - 15s 8ms/step - loss: 0.0063\n",
      "Epoch 34/40\n",
      "1835/1835 [==============================] - 15s 8ms/step - loss: 0.0063\n",
      "Epoch 35/40\n",
      "1835/1835 [==============================] - 15s 8ms/step - loss: 0.0063\n",
      "Epoch 36/40\n",
      "1835/1835 [==============================] - 17s 9ms/step - loss: 0.0063\n",
      "Epoch 37/40\n",
      "1835/1835 [==============================] - 16s 9ms/step - loss: 0.0063\n",
      "Epoch 38/40\n",
      "1835/1835 [==============================] - 17s 9ms/step - loss: 0.0063\n",
      "Epoch 39/40\n",
      "1835/1835 [==============================] - 16s 9ms/step - loss: 0.0063\n",
      "Epoch 40/40\n",
      "1835/1835 [==============================] - 16s 9ms/step - loss: 0.0063\n",
      "Model: \"sequential\"\n",
      "_________________________________________________________________\n",
      "Layer (type)                 Output Shape              Param #   \n",
      "=================================================================\n",
      "lstm (LSTM)                  (None, 10)                480       \n",
      "_________________________________________________________________\n",
      "dense (Dense)                (None, 1)                 11        \n",
      "=================================================================\n",
      "Total params: 491\n",
      "Trainable params: 491\n",
      "Non-trainable params: 0\n",
      "_________________________________________________________________\n"
     ]
    }
   ],
   "source": [
    "from keras.models import Sequential\n",
    "from keras.layers import Dense, LSTM\n",
    "\n",
    "# define model\n",
    "model=Sequential()\n",
    "model.add(LSTM(10, activation=\"relu\",input_shape=(10,1)))\n",
    "model.add(Dense(1))\n",
    "model.compile(optimizer=\"adam\",loss=\"mse\")\n",
    "\n",
    "model.fit(generator,epochs=40)\n",
    "model.summary()"
   ]
  },
  {
   "cell_type": "code",
   "execution_count": 4,
   "metadata": {},
   "outputs": [
    {
     "data": {
      "text/plain": [
       "[<matplotlib.lines.Line2D at 0x7f8a482fcad0>]"
      ]
     },
     "execution_count": 4,
     "metadata": {},
     "output_type": "execute_result"
    },
    {
     "data": {
      "image/png": "[encoded data removed]",
      "text/plain": [
       "<Figure size 432x288 with 1 Axes>"
      ]
     },
     "metadata": {
      "needs_background": "light"
     },
     "output_type": "display_data"
    }
   ],
   "source": [
    "# view decrease in loss\n",
    "loss_per_epoch= model.history.history[\"loss\"]\n",
    "\n",
    "plt.plot(range(len(loss_per_epoch)),loss_per_epoch)\n"
   ]
  },
  {
   "cell_type": "code",
   "execution_count": 5,
   "metadata": {},
   "outputs": [],
   "source": [
    "import numpy as np\n",
    "last_train_batch = scaler_train[-10:]\n",
    "last_train_batch=last_train_batch.reshape((1,10,1))\n",
    "\n",
    "prediction=model.predict(last_train_batch)\n",
    "test_pred=[]\n",
    "\n",
    "for x in range(len(scaler_test)):\n",
    "#     get prediction value for the first batch\n",
    "    prediction=model.predict(last_train_batch).flatten()\n",
    "#     append the prediction value into the array\n",
    "    test_pred.append(prediction)\n",
    "#     use the prediction to update the batch and remove the first value\n",
    "    last_train_batch=np.append(last_train_batch[:,1:,:],[[prediction]],axis=1)\n",
    "    \n",
    "\n",
    "true_pred=scaler.inverse_transform(test_pred) \n",
    "\n",
    "\n",
    "# "
   ]
  },
  {
   "cell_type": "code",
   "execution_count": 7,
   "metadata": {},
   "outputs": [
    {
     "data": {
      "text/plain": [
       "<matplotlib.axes._subplots.AxesSubplot at 0x7f89b419f910>"
      ]
     },
     "execution_count": 7,
     "metadata": {},
     "output_type": "execute_result"
    },
    {
     "data": {
      "image/png": "[encoded data removed]",
      "text/plain": [
       "<Figure size 432x288 with 1 Axes>"
      ]
     },
     "metadata": {
      "needs_background": "light"
     },
     "output_type": "display_data"
    }
   ],
   "source": [
    "\n",
    "test.loc[:,\"pred_vol\"]=true_pred\n",
    "\n",
    "#plt.plot(test[:10])\n",
    "test[:10].plot()\n"
   ]
  },
  {
   "cell_type": "code",
   "execution_count": null,
   "metadata": {},
   "outputs": [],
   "source": []
  },
  {
   "cell_type": "code",
   "execution_count": null,
   "metadata": {},
   "outputs": [],
   "source": []
  }
 ],
 "metadata": {
  "kernelspec": {
   "display_name": "Python 3",
   "language": "python",
   "name": "python3"
  },
  "language_info": {
   "codemirror_mode": {
    "name": "ipython",
    "version": 3
   },
   "file_extension": ".py",
   "mimetype": "text/x-python",
   "name": "python",
   "nbconvert_exporter": "python",
   "pygments_lexer": "ipython3",
   "version": "3.7.6"
  }
 },
 "nbformat": 4,
 "nbformat_minor": 4
}
